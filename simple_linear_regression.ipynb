{
 "cells": [
  {
   "cell_type": "markdown",
   "metadata": {},
   "source": [
    "## Simple Linear Regression"
   ]
  },
  {
   "cell_type": "code",
   "execution_count": 1,
   "metadata": {},
   "outputs": [],
   "source": [
    "#Import package\n",
    "\n",
    "import pandas #dataframe package\n",
    "import numpy #matrix package\n",
    "import os #path package\n",
    "import pickle #model package\n",
    "\n",
    "import seaborn as sns #visualization package\n",
    "import matplotlib.pyplot as plt #visualization package\n",
    "%matplotlib inline\n",
    "\n",
    "import warnings #warning package\n",
    "warnings.filterwarnings('ignore')\n",
    "\n",
    "#model package\n",
    "from sklearn import metrics\n",
    "from sklearn.linear_model import LinearRegression\n",
    "from sklearn.metrics import median_absolute_error\n",
    "\n",
    "#model selection\n",
    "from sklearn.model_selection import train_test_split\n",
    "# from sklearn.cross_validation import cross_val_score, cross_val_predict"
   ]
  },
  {
   "cell_type": "code",
   "execution_count": 2,
   "metadata": {},
   "outputs": [],
   "source": [
    "#root directory  \n",
    "path =  os.getcwd()\n",
    "pathData = path+'\\data'\n",
    "namefile = '\\data_salary.csv' "
   ]
  },
  {
   "cell_type": "code",
   "execution_count": 3,
   "metadata": {},
   "outputs": [
    {
     "data": {
      "text/html": [
       "<div>\n",
       "<style scoped>\n",
       "    .dataframe tbody tr th:only-of-type {\n",
       "        vertical-align: middle;\n",
       "    }\n",
       "\n",
       "    .dataframe tbody tr th {\n",
       "        vertical-align: top;\n",
       "    }\n",
       "\n",
       "    .dataframe thead th {\n",
       "        text-align: right;\n",
       "    }\n",
       "</style>\n",
       "<table border=\"1\" class=\"dataframe\">\n",
       "  <thead>\n",
       "    <tr style=\"text-align: right;\">\n",
       "      <th></th>\n",
       "      <th>YearsExperience</th>\n",
       "      <th>Salary</th>\n",
       "    </tr>\n",
       "  </thead>\n",
       "  <tbody>\n",
       "    <tr>\n",
       "      <th>0</th>\n",
       "      <td>1.1</td>\n",
       "      <td>39343.0</td>\n",
       "    </tr>\n",
       "    <tr>\n",
       "      <th>1</th>\n",
       "      <td>1.3</td>\n",
       "      <td>46205.0</td>\n",
       "    </tr>\n",
       "    <tr>\n",
       "      <th>2</th>\n",
       "      <td>1.5</td>\n",
       "      <td>37731.0</td>\n",
       "    </tr>\n",
       "  </tbody>\n",
       "</table>\n",
       "</div>"
      ],
      "text/plain": [
       "   YearsExperience   Salary\n",
       "0              1.1  39343.0\n",
       "1              1.3  46205.0\n",
       "2              1.5  37731.0"
      ]
     },
     "execution_count": 3,
     "metadata": {},
     "output_type": "execute_result"
    }
   ],
   "source": [
    "#load data\n",
    "df = pandas.read_csv(pathData+namefile)\n",
    "df.head(3)"
   ]
  },
  {
   "cell_type": "code",
   "execution_count": 4,
   "metadata": {},
   "outputs": [
    {
     "name": "stdout",
     "output_type": "stream",
     "text": [
      "<class 'pandas.core.frame.DataFrame'>\n",
      "RangeIndex: 30 entries, 0 to 29\n",
      "Data columns (total 2 columns):\n",
      " #   Column           Non-Null Count  Dtype  \n",
      "---  ------           --------------  -----  \n",
      " 0   YearsExperience  30 non-null     float64\n",
      " 1   Salary           30 non-null     float64\n",
      "dtypes: float64(2)\n",
      "memory usage: 608.0 bytes\n"
     ]
    }
   ],
   "source": [
    "#info data\n",
    "df.info(verbose=True)"
   ]
  },
  {
   "cell_type": "code",
   "execution_count": 5,
   "metadata": {},
   "outputs": [],
   "source": [
    "#preprocessing data\n",
    "df['Salary'] = df['Salary'].astype(int)"
   ]
  },
  {
   "cell_type": "code",
   "execution_count": 6,
   "metadata": {},
   "outputs": [
    {
     "data": {
      "text/html": [
       "<div>\n",
       "<style scoped>\n",
       "    .dataframe tbody tr th:only-of-type {\n",
       "        vertical-align: middle;\n",
       "    }\n",
       "\n",
       "    .dataframe tbody tr th {\n",
       "        vertical-align: top;\n",
       "    }\n",
       "\n",
       "    .dataframe thead th {\n",
       "        text-align: right;\n",
       "    }\n",
       "</style>\n",
       "<table border=\"1\" class=\"dataframe\">\n",
       "  <thead>\n",
       "    <tr style=\"text-align: right;\">\n",
       "      <th></th>\n",
       "      <th>YearsExperience</th>\n",
       "      <th>Salary</th>\n",
       "    </tr>\n",
       "  </thead>\n",
       "  <tbody>\n",
       "    <tr>\n",
       "      <th>count</th>\n",
       "      <td>30.000000</td>\n",
       "      <td>30.000000</td>\n",
       "    </tr>\n",
       "    <tr>\n",
       "      <th>mean</th>\n",
       "      <td>5.313333</td>\n",
       "      <td>76003.000000</td>\n",
       "    </tr>\n",
       "    <tr>\n",
       "      <th>std</th>\n",
       "      <td>2.837888</td>\n",
       "      <td>27414.429785</td>\n",
       "    </tr>\n",
       "    <tr>\n",
       "      <th>min</th>\n",
       "      <td>1.100000</td>\n",
       "      <td>37731.000000</td>\n",
       "    </tr>\n",
       "    <tr>\n",
       "      <th>25%</th>\n",
       "      <td>3.200000</td>\n",
       "      <td>56720.750000</td>\n",
       "    </tr>\n",
       "    <tr>\n",
       "      <th>50%</th>\n",
       "      <td>4.700000</td>\n",
       "      <td>65237.000000</td>\n",
       "    </tr>\n",
       "    <tr>\n",
       "      <th>75%</th>\n",
       "      <td>7.700000</td>\n",
       "      <td>100544.750000</td>\n",
       "    </tr>\n",
       "    <tr>\n",
       "      <th>max</th>\n",
       "      <td>10.500000</td>\n",
       "      <td>122391.000000</td>\n",
       "    </tr>\n",
       "  </tbody>\n",
       "</table>\n",
       "</div>"
      ],
      "text/plain": [
       "       YearsExperience         Salary\n",
       "count        30.000000      30.000000\n",
       "mean          5.313333   76003.000000\n",
       "std           2.837888   27414.429785\n",
       "min           1.100000   37731.000000\n",
       "25%           3.200000   56720.750000\n",
       "50%           4.700000   65237.000000\n",
       "75%           7.700000  100544.750000\n",
       "max          10.500000  122391.000000"
      ]
     },
     "execution_count": 6,
     "metadata": {},
     "output_type": "execute_result"
    }
   ],
   "source": [
    "#statistic data\n",
    "df.describe()"
   ]
  },
  {
   "cell_type": "code",
   "execution_count": 7,
   "metadata": {},
   "outputs": [
    {
     "data": {
      "image/png": "[encoded data removed]",
      "text/plain": [
       "<Figure size 576x360 with 1 Axes>"
      ]
     },
     "metadata": {
      "needs_background": "light"
     },
     "output_type": "display_data"
    }
   ],
   "source": [
    "#data visualization with line plot\n",
    "fig=plt.figure(figsize=(8,5))\n",
    "plt.plot(df['YearsExperience'],df['Salary'],linewidth=5)\n",
    "plt.title('Relantionship YearExperience with Salary')\n",
    "plt.xlabel('YearExperience')\n",
    "plt.ylabel('Salary($)')\n",
    "plt.show()"
   ]
  },
  {
   "cell_type": "code",
   "execution_count": 8,
   "metadata": {},
   "outputs": [
    {
     "data": {
      "image/png": "[encoded data removed]",
      "text/plain": [
       "<Figure size 576x360 with 1 Axes>"
      ]
     },
     "metadata": {
      "needs_background": "light"
     },
     "output_type": "display_data"
    }
   ],
   "source": [
    "#data visualization with scatter plot\n",
    "fig=plt.figure(figsize=(8,5))\n",
    "plt.scatter(df['YearsExperience'],df['Salary'],color='green',s=100)\n",
    "plt.title('Relantionship YearExperience with Salary')\n",
    "plt.xlabel('YearExperience')\n",
    "plt.ylabel('Salary($)')\n",
    "plt.show()"
   ]
  },
  {
   "cell_type": "code",
   "execution_count": 9,
   "metadata": {},
   "outputs": [
    {
     "name": "stdout",
     "output_type": "stream",
     "text": [
      "Dimension of array varX:2D\n",
      "Dimension of array varY:1D\n"
     ]
    }
   ],
   "source": [
    "#convert data into numpy array \n",
    "#YearExperience -> varX 2Dimension\n",
    "#Salary -> varY 1Dimension\n",
    "\n",
    "varX = numpy.reshape(df['YearsExperience'].values,(-1,1))\n",
    "varY = numpy.array(df['Salary'])\n",
    "\n",
    "print('Dimension of array varX:'+''+str(varX.ndim)+'D')\n",
    "print('Dimension of array varY:'+''+str(varY.ndim)+'D')"
   ]
  },
  {
   "cell_type": "code",
   "execution_count": 42,
   "metadata": {},
   "outputs": [
    {
     "name": "stdout",
     "output_type": "stream",
     "text": [
      "Model has been build ...\n",
      "Model.......... formula: 25792+9449*YearExperience\n",
      "Model.......... prediction: has been load\n",
      "Model.......... accurancy:0.957 or 95.7%\n",
      "Model.......... export: modelSimpleLinearRegression.pkl\n"
     ]
    },
    {
     "data": {
      "text/html": [
       "<div>\n",
       "<style scoped>\n",
       "    .dataframe tbody tr th:only-of-type {\n",
       "        vertical-align: middle;\n",
       "    }\n",
       "\n",
       "    .dataframe tbody tr th {\n",
       "        vertical-align: top;\n",
       "    }\n",
       "\n",
       "    .dataframe thead th {\n",
       "        text-align: right;\n",
       "    }\n",
       "</style>\n",
       "<table border=\"1\" class=\"dataframe\">\n",
       "  <thead>\n",
       "    <tr style=\"text-align: right;\">\n",
       "      <th></th>\n",
       "      <th>YearsExperience</th>\n",
       "      <th>Salary</th>\n",
       "      <th>Prediction</th>\n",
       "      <th>Residual</th>\n",
       "    </tr>\n",
       "  </thead>\n",
       "  <tbody>\n",
       "    <tr>\n",
       "      <th>0</th>\n",
       "      <td>1.1</td>\n",
       "      <td>39343</td>\n",
       "      <td>36187</td>\n",
       "      <td>3156</td>\n",
       "    </tr>\n",
       "    <tr>\n",
       "      <th>1</th>\n",
       "      <td>1.3</td>\n",
       "      <td>46205</td>\n",
       "      <td>38077</td>\n",
       "      <td>8128</td>\n",
       "    </tr>\n",
       "    <tr>\n",
       "      <th>2</th>\n",
       "      <td>1.5</td>\n",
       "      <td>37731</td>\n",
       "      <td>39967</td>\n",
       "      <td>2236</td>\n",
       "    </tr>\n",
       "  </tbody>\n",
       "</table>\n",
       "</div>"
      ],
      "text/plain": [
       "   YearsExperience  Salary  Prediction  Residual\n",
       "0              1.1   39343       36187      3156\n",
       "1              1.3   46205       38077      8128\n",
       "2              1.5   37731       39967      2236"
      ]
     },
     "execution_count": 42,
     "metadata": {},
     "output_type": "execute_result"
    }
   ],
   "source": [
    "#build model simple linear regression\n",
    "model = LinearRegression()\n",
    "model.fit(varX,varY)\n",
    "intercept = model.intercept_\n",
    "coef = model.coef_\n",
    "\n",
    "#convert float into integer\n",
    "interceptInt = int(intercept)\n",
    "coefInt = int(coef[0])\n",
    "\n",
    "def strNumber(num):\n",
    "    if num > 0:\n",
    "        num = '+'+str(num)\n",
    "    else:\n",
    "        num = '-'+str(num)\n",
    "    return num\n",
    "\n",
    "print('Model has been build ...')\n",
    "print('Model.......... formula: '+str(interceptInt)+strNumber(coefInt)+'*YearExperience')\n",
    "\n",
    "#get prediction of model\n",
    "varPrediction = model.predict(varX)\n",
    "varPrediction = [int(varPrediction[i]) for i in range(len(varPrediction))]\n",
    "varPrediction  = numpy.array(varPrediction)\n",
    "\n",
    "print('Model.......... prediction: has been load')\n",
    "\n",
    "#model accurancy\n",
    "accurancyModel = model.score(varX,varY)\n",
    "accurancyflot = round(accurancyModel,4)\n",
    "accurancyPersen = accurancyflot*100\n",
    "\n",
    "print('Model.......... accurancy:'+str(accurancyflot)+' or '+str(accurancyPersen)+'%')\n",
    "\n",
    "#model evaluation\n",
    "# value = median_absolute_error(varX, varPrediction)\n",
    "# print('Model.......... accurancy:')\n",
    "\n",
    "#export model\n",
    "path =  os.getcwd()\n",
    "pathModel = path+'\\model'\n",
    "nameModel = 'modelSimpleLinearRegression.pkl'\n",
    "\n",
    "if not os.path.exists(pathModel):\n",
    "    os.makedirs(pathModel)\n",
    "    \n",
    "with open(pathModel+'\\\\'+nameModel, 'wb') as file:\n",
    "    pickle.dump(model, file)\n",
    "    \n",
    "print('Model.......... export: ' +nameModel)\n",
    "\n",
    "#dataframe result with column prediction\n",
    "df['Prediction'] = varPrediction\n",
    "df['Residual'] = abs(df['Salary'] - df['Prediction'])\n",
    "df.head(3)"
   ]
  },
  {
   "cell_type": "code",
   "execution_count": 47,
   "metadata": {},
   "outputs": [
    {
     "name": "stdout",
     "output_type": "stream",
     "text": [
      "RMSE value: 5592.1601\n",
      "R2 Score value: 0.9570\n"
     ]
    }
   ],
   "source": [
    "#regression metrics for model performance\n",
    "\n",
    "#rmse\n",
    "from sklearn.metrics import mean_squared_error\n",
    "mse = mean_squared_error(varY, varPrediction)\n",
    "rmse = numpy.sqrt(mse)\n",
    "print(\"RMSE value: {:.4f}\".format(rmse))\n",
    "\n",
    "#r2 score\n",
    "from sklearn.metrics import r2_score\n",
    "print (\"R2 Score value: {:.4f}\".format(r2_score(varY, varPrediction)))"
   ]
  },
  {
   "cell_type": "code",
   "execution_count": 53,
   "metadata": {},
   "outputs": [
    {
     "data": {
      "image/png": "[encoded data removed]",
      "text/plain": [
       "<Figure size 576x432 with 1 Axes>"
      ]
     },
     "metadata": {
      "needs_background": "light"
     },
     "output_type": "display_data"
    }
   ],
   "source": [
    "#modelling visualization with data\n",
    "fig = plt.figure(figsize=(8,6))\n",
    "plt.scatter(df['YearsExperience'], df['Salary'],color='green',label='Scatter Plot')\n",
    "plt.plot(df['YearsExperience'],df['Prediction'],color='red',label = 'Regression Line')\n",
    "plt.title('Model Visualization')\n",
    "plt.xlabel('YearExperience')\n",
    "plt.ylabel('Salary($)')\n",
    "plt.legend(loc=4)\n",
    "plt.show()"
   ]
  },
  {
   "cell_type": "code",
   "execution_count": 54,
   "metadata": {},
   "outputs": [
    {
     "name": "stdout",
     "output_type": "stream",
     "text": [
      "Accurancy model with..... data train: 0.9424\n",
      "Accurancy model with..... data test: 0.9741\n",
      "Export-Model modelSimpleLinearRegression_v1.pkl\n"
     ]
    }
   ],
   "source": [
    "#model selection and cross-validation\n",
    "#training and scallable model\n",
    "\n",
    "X_train, X_test, y_train, y_test = train_test_split(varX,varY, train_size = 0.7, test_size = 0.3, random_state = 0)\n",
    "model = LinearRegression()\n",
    "model.fit(X_train, y_train)\n",
    "\n",
    "scoreTrain = round(model.score(X_train, y_train),4)\n",
    "scoreTest = round(model.score(X_test, y_test),4)\n",
    "print('Accurancy model with..... data train: '+str(scoreTrain))\n",
    "print('Accurancy model with..... data test: '+str(scoreTest))\n",
    "\n",
    "#export model\n",
    "path =  os.getcwd()\n",
    "pathModel = path+'\\model'\n",
    "nameModel = 'modelSimpleLinearRegression_v1.pkl'\n",
    "\n",
    "if not os.path.exists(pathModel):\n",
    "    os.makedirs(pathModel)\n",
    "    \n",
    "with open(pathModel+'\\\\'+nameModel, 'wb') as file:\n",
    "    pickle.dump(model, file)\n",
    "    \n",
    "print('Export-Model ' +nameModel)\n"
   ]
  },
  {
   "cell_type": "code",
   "execution_count": 58,
   "metadata": {},
   "outputs": [
    {
     "data": {
      "image/png": "[encoded data removed]",
      "text/plain": [
       "<Figure size 432x288 with 1 Axes>"
      ]
     },
     "metadata": {
      "needs_background": "light"
     },
     "output_type": "display_data"
    }
   ],
   "source": [
    "# Plotting residual errors\n",
    "\n",
    "plt.scatter(model.predict(X_train), model.predict(X_train) - y_train, color = 'red', label = 'Train data')\n",
    "plt.scatter(model.predict(X_test), model.predict(X_test) - y_test, color = 'blue', label = 'Test data')\n",
    "plt.hlines(xmin = 0, xmax = 100, y = 0, linewidth = 3)\n",
    "plt.title('Residual errors')\n",
    "plt.legend(loc = 4)\n",
    "plt.show()"
   ]
  },
  {
   "cell_type": "code",
   "execution_count": 46,
   "metadata": {},
   "outputs": [
    {
     "name": "stdout",
     "output_type": "stream",
     "text": [
      "[0.98816952 0.92579174 0.92523859 0.87851891 0.96461205]\n",
      "Accuracy: 0.936 (0.042)\n"
     ]
    }
   ],
   "source": [
    "#croos-validation\n",
    "import statistics\n",
    "from sklearn.model_selection import KFold\n",
    "from sklearn.model_selection import cross_val_score\n",
    "\n",
    "cv = KFold(n_splits=5, random_state=0, shuffle=True)\n",
    "model = LinearRegression()\n",
    "scores = cross_val_score(model, varX, varY, scoring='r2', cv=cv)\n",
    "\n",
    "print(scores)\n",
    "print('Accuracy: %.3f (%.3f)' % (statistics.mean(scores), statistics.stdev(scores)))"
   ]
  },
  {
   "cell_type": "code",
   "execution_count": 14,
   "metadata": {},
   "outputs": [],
   "source": [
    "#test load model\n",
    "pathRoot =  os.getcwd()\n",
    "pathFile = pathRoot+'\\model'\n",
    "nameFile = 'modelSimpleLinearRegression.pkl'\n",
    "locFile = pathFile+'\\\\'+nameFile    \n",
    "with open(locFile, 'rb') as file:\n",
    "    model = pickle.load(file)"
   ]
  },
  {
   "cell_type": "code",
   "execution_count": 16,
   "metadata": {},
   "outputs": [
    {
     "name": "stdout",
     "output_type": "stream",
     "text": [
      "Result Prediction with 2 Year Experience: $ 44692\n"
     ]
    }
   ],
   "source": [
    "#inpput value has number (int,float)\n",
    "inputValue = 2\n",
    "inputList =  []\n",
    "\n",
    "inputList.append(inputValue)\n",
    "inputArray = numpy.reshape(inputList,(-1,1))\n",
    "ouputValue = model.predict(inputArray)\n",
    "ouputValue = int(ouputValue[0])\n",
    "\n",
    "print('Result Prediction with '+str(inputValue)+' Year Experience'+': $ '+str(ouputValue))"
   ]
  },
  {
   "cell_type": "code",
   "execution_count": null,
   "metadata": {},
   "outputs": [],
   "source": []
  }
 ],
 "metadata": {
  "kernelspec": {
   "display_name": "Python 3",
   "language": "python",
   "name": "python3"
  },
  "language_info": {
   "codemirror_mode": {
    "name": "ipython",
    "version": 3
   },
   "file_extension": ".py",
   "mimetype": "text/x-python",
   "name": "python",
   "nbconvert_exporter": "python",
   "pygments_lexer": "ipython3",
   "version": "3.8.5"
  }
 },
 "nbformat": 4,
 "nbformat_minor": 4
}
